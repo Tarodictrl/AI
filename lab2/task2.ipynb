{
 "cells": [
  {
   "cell_type": "code",
   "execution_count": 69,
   "metadata": {},
   "outputs": [],
   "source": [
    "import numpy as np"
   ]
  },
  {
   "cell_type": "code",
   "execution_count": 70,
   "metadata": {},
   "outputs": [
    {
     "name": "stdout",
     "output_type": "stream",
     "text": [
      "Исходный массив:\n",
      " [[67 35 88 47 95]\n",
      " [33 33 70 82 43]\n",
      " [99 98 22 73 22]\n",
      " [93 98 64  3 90]\n",
      " [90 21 79 49 39]]\n"
     ]
    }
   ],
   "source": [
    "# Создание массива 5x5 со случайными значениями.\n",
    "array = np.random.randint(0, 100, size=(5, 5))\n",
    "print(\"Исходный массив:\\n\", array)"
   ]
  },
  {
   "cell_type": "code",
   "execution_count": 71,
   "metadata": {},
   "outputs": [
    {
     "name": "stdout",
     "output_type": "stream",
     "text": [
      "Отсортированный массив по каждой строке по убыванию:\n",
      " [[95 88 67 47 35]\n",
      " [82 70 43 33 33]\n",
      " [99 98 73 22 22]\n",
      " [98 93 90 64  3]\n",
      " [90 79 49 39 21]]\n"
     ]
    }
   ],
   "source": [
    "# Сортировка каждой строки по убыванию.\n",
    "sorted_array = np.array([sorted(row, reverse=True) for row in array])\n",
    "\n",
    "print(\"Отсортированный массив по каждой строке по убыванию:\\n\", sorted_array)\n"
   ]
  }
 ],
 "metadata": {
  "kernelspec": {
   "display_name": ".venv",
   "language": "python",
   "name": "python3"
  },
  "language_info": {
   "codemirror_mode": {
    "name": "ipython",
    "version": 3
   },
   "file_extension": ".py",
   "mimetype": "text/x-python",
   "name": "python",
   "nbconvert_exporter": "python",
   "pygments_lexer": "ipython3",
   "version": "3.11.5"
  }
 },
 "nbformat": 4,
 "nbformat_minor": 2
}
