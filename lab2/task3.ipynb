{
 "cells": [
  {
   "cell_type": "code",
   "execution_count": 9,
   "metadata": {},
   "outputs": [],
   "source": [
    "import numpy as np"
   ]
  },
  {
   "cell_type": "code",
   "execution_count": 10,
   "metadata": {},
   "outputs": [
    {
     "name": "stdout",
     "output_type": "stream",
     "text": [
      "Исходный вектор:\n",
      " [-3.7 -2.5 -1.3  0.   1.3  2.5  3.7]\n"
     ]
    }
   ],
   "source": [
    "# Создание вектор со случайными значениями.\n",
    "A = np.array([-3.7, -2.5, -1.3, 0, 1.3, 2.5, 3.7])\n",
    "print(\"Исходный вектор:\\n\", A)"
   ]
  },
  {
   "cell_type": "code",
   "execution_count": 11,
   "metadata": {},
   "outputs": [
    {
     "name": "stdout",
     "output_type": "stream",
     "text": [
      "Результат округления:\n",
      " [-4. -3. -2.  0.  2.  3.  4.]\n"
     ]
    }
   ],
   "source": [
    "rounded_vector = np.array([np.floor(x) if x < 0 else np.ceil(x) for x in A])\n",
    "print(\"Результат округления:\\n\", rounded_vector) "
   ]
  }
 ],
 "metadata": {
  "kernelspec": {
   "display_name": ".venv",
   "language": "python",
   "name": "python3"
  },
  "language_info": {
   "codemirror_mode": {
    "name": "ipython",
    "version": 3
   },
   "file_extension": ".py",
   "mimetype": "text/x-python",
   "name": "python",
   "nbconvert_exporter": "python",
   "pygments_lexer": "ipython3",
   "version": "3.11.5"
  }
 },
 "nbformat": 4,
 "nbformat_minor": 2
}
