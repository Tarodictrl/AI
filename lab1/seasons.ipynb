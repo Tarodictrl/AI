{
 "cells": [
  {
   "cell_type": "code",
   "execution_count": 4,
   "metadata": {},
   "outputs": [],
   "source": [
    "def season(month: int) -> str:\n",
    "    if month not in range(1, 13):\n",
    "        raise ValueError(\"Month must be in range 1 - 12\")\n",
    "    match month:\n",
    "        case month if 1 <= month <= 2 or month == 12:\n",
    "            return \"Зима\"\n",
    "        case month if 3 <= month <= 5:\n",
    "            return \"Весна\"\n",
    "        case month if 6 <= month <= 8:\n",
    "            return \"Лето\"\n",
    "        case month if 9 <= month <= 11:\n",
    "            return \"Осень\"\n",
    "        "
   ]
  },
  {
   "cell_type": "code",
   "execution_count": 5,
   "metadata": {},
   "outputs": [
    {
     "name": "stdout",
     "output_type": "stream",
     "text": [
      "Зима\n",
      "Весна\n",
      "Лето\n",
      "Осень\n",
      "Зима\n"
     ]
    },
    {
     "ename": "ValueError",
     "evalue": "Month must be in range 1 - 12",
     "output_type": "error",
     "traceback": [
      "\u001b[1;31m---------------------------------------------------------------------------\u001b[0m",
      "\u001b[1;31mValueError\u001b[0m                                Traceback (most recent call last)",
      "Cell \u001b[1;32mIn[5], line 6\u001b[0m\n\u001b[0;32m      4\u001b[0m \u001b[38;5;28mprint\u001b[39m(season(\u001b[38;5;241m9\u001b[39m))\n\u001b[0;32m      5\u001b[0m \u001b[38;5;28mprint\u001b[39m(season(\u001b[38;5;241m12\u001b[39m))\n\u001b[1;32m----> 6\u001b[0m \u001b[38;5;28mprint\u001b[39m(\u001b[43mseason\u001b[49m\u001b[43m(\u001b[49m\u001b[38;5;241;43m13\u001b[39;49m\u001b[43m)\u001b[49m)\n",
      "Cell \u001b[1;32mIn[4], line 3\u001b[0m, in \u001b[0;36mseason\u001b[1;34m(month)\u001b[0m\n\u001b[0;32m      1\u001b[0m \u001b[38;5;28;01mdef\u001b[39;00m \u001b[38;5;21mseason\u001b[39m(month: \u001b[38;5;28mint\u001b[39m):\n\u001b[0;32m      2\u001b[0m     \u001b[38;5;28;01mif\u001b[39;00m month \u001b[38;5;129;01mnot\u001b[39;00m \u001b[38;5;129;01min\u001b[39;00m \u001b[38;5;28mrange\u001b[39m(\u001b[38;5;241m1\u001b[39m, \u001b[38;5;241m13\u001b[39m):\n\u001b[1;32m----> 3\u001b[0m         \u001b[38;5;28;01mraise\u001b[39;00m \u001b[38;5;167;01mValueError\u001b[39;00m(\u001b[38;5;124m\"\u001b[39m\u001b[38;5;124mMonth must be in range 1 - 12\u001b[39m\u001b[38;5;124m\"\u001b[39m)\n\u001b[0;32m      4\u001b[0m     \u001b[38;5;28;01mmatch\u001b[39;00m month:\n\u001b[0;32m      5\u001b[0m         \u001b[38;5;28;01mcase\u001b[39;00m month \u001b[38;5;28;01mif\u001b[39;00m \u001b[38;5;241m1\u001b[39m \u001b[38;5;241m<\u001b[39m\u001b[38;5;241m=\u001b[39m month \u001b[38;5;241m<\u001b[39m\u001b[38;5;241m=\u001b[39m \u001b[38;5;241m2\u001b[39m \u001b[38;5;129;01mor\u001b[39;00m month \u001b[38;5;241m==\u001b[39m \u001b[38;5;241m12\u001b[39m:\n",
      "\u001b[1;31mValueError\u001b[0m: Month must be in range 1 - 12"
     ]
    }
   ],
   "source": [
    "print(season(1))\n",
    "print(season(3))\n",
    "print(season(6))\n",
    "print(season(9))\n",
    "print(season(12))\n",
    "print(season(13))"
   ]
  }
 ],
 "metadata": {
  "kernelspec": {
   "display_name": ".venv",
   "language": "python",
   "name": "python3"
  },
  "language_info": {
   "codemirror_mode": {
    "name": "ipython",
    "version": 3
   },
   "file_extension": ".py",
   "mimetype": "text/x-python",
   "name": "python",
   "nbconvert_exporter": "python",
   "pygments_lexer": "ipython3",
   "version": "3.11.5"
  }
 },
 "nbformat": 4,
 "nbformat_minor": 2
}
